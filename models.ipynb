{
 "cells": [
  {
   "cell_type": "code",
   "execution_count": 3,
   "metadata": {},
   "outputs": [],
   "source": [
    "# common use ful modules\n",
    "import pandas as pd\n",
    "import numpy as np "
   ]
  },
  {
   "cell_type": "code",
   "execution_count": 6,
   "metadata": {},
   "outputs": [],
   "source": [
    "# intialize\n",
    "import re\n",
    "import string as s\n",
    "import nltk\n",
    "from nltk.stem import WordNetLemmatizer\n",
    "\n",
    "\"\"\"The function to transform string removing punctuations performs stemming\"\"\"\n",
    "def transform(title):\n",
    "    \n",
    "    # remove puncuations\n",
    "    punct_remover = str.maketrans('', '', s.punctuation)\n",
    "    text = title.translate(punct_remover)\n",
    "    \n",
    "    \n",
    "    # tokenize ==> lemetizer / stemmer\n",
    "    text= nltk.word_tokenize(text)\n",
    "    text = [wordnet.lemmatize(word) for word in text]\n",
    "    \n",
    "    # joining the list of words with space separator\n",
    "    text=  \" \".join(text)\n",
    "    # incase if there is more than 1 space replace it by 1 space\n",
    "    text = re.sub(r'\\s+', ' ', text)\n",
    "    \n",
    "    return text\n",
    "\n",
    "\"\"\"Sometimes people dont actually remember the accurate title. E.g. Harry Potter and the Sorcerer's Stone but they only\n",
    "input 'Harry Potter' and get ended up with KeyError/IndexError. To solve the issue I have created this function, you type \n",
    "a title you dont know accurately; the function will return the similar titles and you choose from that.\"\"\"\n",
    "\n",
    "def exact_title(df):\n",
    "    # i have to put the index of the book to find recommendations from it\n",
    "    # so im trying to make a program that if the input string have matching character it will give recommendation without requiring \n",
    "    # to know the index\n",
    "    choice = input(\"enter the title name : \").lower()\n",
    "    choice = transform(choice)\n",
    "    c_len = len(choice.split())\n",
    "    b_len = 0\n",
    "    matches = []\n",
    "    choice = choice.split()\n",
    "\n",
    "    for i,x in enumerate(new_titles):\n",
    "        \n",
    "        # split title \n",
    "        t_words = x.split()\n",
    "\n",
    "        # It checks word similarity between input and titles\n",
    "        for y in t_words:\n",
    "            if y.lower() in choice:\n",
    "                \n",
    "                b_len +=1\n",
    "        if b_len == 0: continue\n",
    "        \n",
    "        # ratio of matched words and length of input word length\n",
    "        # if title totally matches then score 1.\n",
    "        score = round(b_len / c_len, 2)\n",
    "        b_len = 0\n",
    "        if score > 0.1:\n",
    "            matches.append((score, df.iloc[i].title))\n",
    "\n",
    "    for i, x in matches:\n",
    "        print(i, x)\n",
    "    #print(matches)      "
   ]
  },
  {
   "cell_type": "code",
   "execution_count": 5,
   "metadata": {},
   "outputs": [],
   "source": [
    "df = pd.read_csv(\"final_netflix_imputed.csv\")"
   ]
  },
  {
   "cell_type": "code",
   "execution_count": null,
   "metadata": {},
   "outputs": [],
   "source": [
    "# transforms the titles so that you can get accurate title names; in later part.\n",
    "new_titles = [transform(t) for t in df.title]"
   ]
  },
  {
   "cell_type": "code",
   "execution_count": 7,
   "metadata": {},
   "outputs": [],
   "source": [
    "# models to be used\n",
    "from sklearn.neighbors import NearestNeighbors"
   ]
  },
  {
   "cell_type": "markdown",
   "metadata": {},
   "source": [
    "### Load the sparse array"
   ]
  },
  {
   "cell_type": "code",
   "execution_count": 8,
   "metadata": {},
   "outputs": [],
   "source": [
    "import pickle\n",
    "X = pickle.load(open(\"NetflixSparseArray.pkl\", 'rb'))"
   ]
  },
  {
   "cell_type": "code",
   "execution_count": 9,
   "metadata": {},
   "outputs": [
    {
     "data": {
      "text/plain": [
       "(7787, 4000)"
      ]
     },
     "execution_count": 9,
     "metadata": {},
     "output_type": "execute_result"
    }
   ],
   "source": [
    "X.shape"
   ]
  },
  {
   "cell_type": "markdown",
   "metadata": {},
   "source": [
    "### **Use Nearest Neighbours**"
   ]
  },
  {
   "cell_type": "code",
   "execution_count": 10,
   "metadata": {},
   "outputs": [
    {
     "data": {
      "text/html": [
       "<style>#sk-container-id-1 {color: black;background-color: white;}#sk-container-id-1 pre{padding: 0;}#sk-container-id-1 div.sk-toggleable {background-color: white;}#sk-container-id-1 label.sk-toggleable__label {cursor: pointer;display: block;width: 100%;margin-bottom: 0;padding: 0.3em;box-sizing: border-box;text-align: center;}#sk-container-id-1 label.sk-toggleable__label-arrow:before {content: \"▸\";float: left;margin-right: 0.25em;color: #696969;}#sk-container-id-1 label.sk-toggleable__label-arrow:hover:before {color: black;}#sk-container-id-1 div.sk-estimator:hover label.sk-toggleable__label-arrow:before {color: black;}#sk-container-id-1 div.sk-toggleable__content {max-height: 0;max-width: 0;overflow: hidden;text-align: left;background-color: #f0f8ff;}#sk-container-id-1 div.sk-toggleable__content pre {margin: 0.2em;color: black;border-radius: 0.25em;background-color: #f0f8ff;}#sk-container-id-1 input.sk-toggleable__control:checked~div.sk-toggleable__content {max-height: 200px;max-width: 100%;overflow: auto;}#sk-container-id-1 input.sk-toggleable__control:checked~label.sk-toggleable__label-arrow:before {content: \"▾\";}#sk-container-id-1 div.sk-estimator input.sk-toggleable__control:checked~label.sk-toggleable__label {background-color: #d4ebff;}#sk-container-id-1 div.sk-label input.sk-toggleable__control:checked~label.sk-toggleable__label {background-color: #d4ebff;}#sk-container-id-1 input.sk-hidden--visually {border: 0;clip: rect(1px 1px 1px 1px);clip: rect(1px, 1px, 1px, 1px);height: 1px;margin: -1px;overflow: hidden;padding: 0;position: absolute;width: 1px;}#sk-container-id-1 div.sk-estimator {font-family: monospace;background-color: #f0f8ff;border: 1px dotted black;border-radius: 0.25em;box-sizing: border-box;margin-bottom: 0.5em;}#sk-container-id-1 div.sk-estimator:hover {background-color: #d4ebff;}#sk-container-id-1 div.sk-parallel-item::after {content: \"\";width: 100%;border-bottom: 1px solid gray;flex-grow: 1;}#sk-container-id-1 div.sk-label:hover label.sk-toggleable__label {background-color: #d4ebff;}#sk-container-id-1 div.sk-serial::before {content: \"\";position: absolute;border-left: 1px solid gray;box-sizing: border-box;top: 0;bottom: 0;left: 50%;z-index: 0;}#sk-container-id-1 div.sk-serial {display: flex;flex-direction: column;align-items: center;background-color: white;padding-right: 0.2em;padding-left: 0.2em;position: relative;}#sk-container-id-1 div.sk-item {position: relative;z-index: 1;}#sk-container-id-1 div.sk-parallel {display: flex;align-items: stretch;justify-content: center;background-color: white;position: relative;}#sk-container-id-1 div.sk-item::before, #sk-container-id-1 div.sk-parallel-item::before {content: \"\";position: absolute;border-left: 1px solid gray;box-sizing: border-box;top: 0;bottom: 0;left: 50%;z-index: -1;}#sk-container-id-1 div.sk-parallel-item {display: flex;flex-direction: column;z-index: 1;position: relative;background-color: white;}#sk-container-id-1 div.sk-parallel-item:first-child::after {align-self: flex-end;width: 50%;}#sk-container-id-1 div.sk-parallel-item:last-child::after {align-self: flex-start;width: 50%;}#sk-container-id-1 div.sk-parallel-item:only-child::after {width: 0;}#sk-container-id-1 div.sk-dashed-wrapped {border: 1px dashed gray;margin: 0 0.4em 0.5em 0.4em;box-sizing: border-box;padding-bottom: 0.4em;background-color: white;}#sk-container-id-1 div.sk-label label {font-family: monospace;font-weight: bold;display: inline-block;line-height: 1.2em;}#sk-container-id-1 div.sk-label-container {text-align: center;}#sk-container-id-1 div.sk-container {/* jupyter's `normalize.less` sets `[hidden] { display: none; }` but bootstrap.min.css set `[hidden] { display: none !important; }` so we also need the `!important` here to be able to override the default hidden behavior on the sphinx rendered scikit-learn.org. See: https://github.com/scikit-learn/scikit-learn/issues/21755 */display: inline-block !important;position: relative;}#sk-container-id-1 div.sk-text-repr-fallback {display: none;}</style><div id=\"sk-container-id-1\" class=\"sk-top-container\"><div class=\"sk-text-repr-fallback\"><pre>NearestNeighbors(algorithm=&#x27;brute&#x27;, metric=&#x27;cosine&#x27;, n_jobs=-1, n_neighbors=10)</pre><b>In a Jupyter environment, please rerun this cell to show the HTML representation or trust the notebook. <br />On GitHub, the HTML representation is unable to render, please try loading this page with nbviewer.org.</b></div><div class=\"sk-container\" hidden><div class=\"sk-item\"><div class=\"sk-estimator sk-toggleable\"><input class=\"sk-toggleable__control sk-hidden--visually\" id=\"sk-estimator-id-1\" type=\"checkbox\" checked><label for=\"sk-estimator-id-1\" class=\"sk-toggleable__label sk-toggleable__label-arrow\">NearestNeighbors</label><div class=\"sk-toggleable__content\"><pre>NearestNeighbors(algorithm=&#x27;brute&#x27;, metric=&#x27;cosine&#x27;, n_jobs=-1, n_neighbors=10)</pre></div></div></div></div></div>"
      ],
      "text/plain": [
       "NearestNeighbors(algorithm='brute', metric='cosine', n_jobs=-1, n_neighbors=10)"
      ]
     },
     "execution_count": 10,
     "metadata": {},
     "output_type": "execute_result"
    }
   ],
   "source": [
    "knn = NearestNeighbors(metric='cosine', algorithm='brute', n_neighbors=10, n_jobs=-1)\n",
    "knn.fit(X)"
   ]
  },
  {
   "cell_type": "code",
   "execution_count": 18,
   "metadata": {},
   "outputs": [
    {
     "name": "stdout",
     "output_type": "stream",
     "text": [
      "1.0 Batman: The Killing Joke\n",
      "1.0 Lego DC Comics: Batman Be-Leaguered\n"
     ]
    }
   ],
   "source": [
    "exact_title(df)"
   ]
  },
  {
   "cell_type": "code",
   "execution_count": 11,
   "metadata": {},
   "outputs": [],
   "source": [
    "def reccomend(title):\n",
    "    input_title = title\n",
    "    title_index = df[df.title ==  input_title].index\n",
    "    # find neighbours [recommendations]\n",
    "    distances, suggestions = knn.kneighbors(X[title_index])\n",
    "    for title in suggestions[0]:\n",
    "        print(\"==> \",  df.iloc[title].title)\n"
   ]
  },
  {
   "cell_type": "code",
   "execution_count": 12,
   "metadata": {},
   "outputs": [
    {
     "name": "stdout",
     "output_type": "stream",
     "text": [
      "==>  Welcome\n",
      "==>  Thank You\n",
      "==>  Mubarakan\n",
      "==>  Tezz\n",
      "==>  Tees Maar Khan\n",
      "==>  Ready\n",
      "==>  Humko Deewana Kar Gaye\n",
      "==>  No Entry\n",
      "==>  Race\n",
      "==>  Tum Milo Toh Sahi\n"
     ]
    }
   ],
   "source": [
    "reccomend('Welcome')"
   ]
  },
  {
   "cell_type": "code",
   "execution_count": 17,
   "metadata": {},
   "outputs": [
    {
     "name": "stdout",
     "output_type": "stream",
     "text": [
      "==>  Avengers: Infinity War\n",
      "==>  Thor: Ragnarok\n",
      "==>  Mark Gatiss: A Study in Sherlock\n",
      "==>  Her\n",
      "==>  The Little Prince\n",
      "==>  Penguins of Madagascar: The Movie\n",
      "==>  Marco Polo: One Hundred Eyes\n",
      "==>  Chef\n",
      "==>  Walk with Me\n",
      "==>  Black Panther\n"
     ]
    }
   ],
   "source": [
    "reccomend(\"Avengers: Infinity War\")"
   ]
  },
  {
   "cell_type": "code",
   "execution_count": 19,
   "metadata": {},
   "outputs": [
    {
     "name": "stdout",
     "output_type": "stream",
     "text": [
      "==>  Batman: The Killing Joke\n",
      "==>  Sym-Bionic Titan\n",
      "==>  Lego DC Comics: Batman Be-Leaguered\n",
      "==>  The Boss Baby: Get That Baby!\n",
      "==>  Bolt\n",
      "==>  LEGO Marvel Super Heroes: Avengers Reassembled!\n",
      "==>  LEGO: Marvel Super Heroes: Maximum Overload\n",
      "==>  Scooby-Doo on Zombie Island\n",
      "==>  Marvel's Iron Man & Hulk: Heroes United\n",
      "==>  Iron Man & Captain America: Heroes United\n"
     ]
    }
   ],
   "source": [
    "reccomend(\"Batman: The Killing Joke\")"
   ]
  },
  {
   "cell_type": "code",
   "execution_count": 20,
   "metadata": {},
   "outputs": [
    {
     "name": "stdout",
     "output_type": "stream",
     "text": [
      "==>  No Entry\n",
      "==>  Thank You\n",
      "==>  Ready\n",
      "==>  Don 2\n",
      "==>  Kucch To Hai\n",
      "==>  Mubarakan\n",
      "==>  Welcome\n",
      "==>  Darr Sabko Lagta Hai\n",
      "==>  Hello Brother\n",
      "==>  Race\n"
     ]
    }
   ],
   "source": [
    "reccomend(\"No Entry\")"
   ]
  },
  {
   "cell_type": "code",
   "execution_count": 23,
   "metadata": {},
   "outputs": [
    {
     "name": "stdout",
     "output_type": "stream",
     "text": [
      "==>  Dil Dhadakne Do\n",
      "==>  The Sky Is Pink\n",
      "==>  Zindagi Na Milegi Dobara\n",
      "==>  Luck by Chance\n",
      "==>  Don 2\n",
      "==>  Karthik Calling Karthik\n",
      "==>  Dolly Kitty Aur Woh Chamakte Sitare\n",
      "==>  Don\n",
      "==>  Dil Chahta Hai\n",
      "==>  Ascharyachakit!\n"
     ]
    }
   ],
   "source": [
    "reccomend(\"Dil Dhadakne Do\")"
   ]
  },
  {
   "cell_type": "markdown",
   "metadata": {},
   "source": [
    "### **Use KMeans Clustering**"
   ]
  },
  {
   "cell_type": "code",
   "execution_count": 24,
   "metadata": {},
   "outputs": [],
   "source": [
    "kmeans = pickle.load(open(\"NetflixKMeans.pkl\", 'rb'))"
   ]
  },
  {
   "cell_type": "code",
   "execution_count": 25,
   "metadata": {},
   "outputs": [],
   "source": [
    "from sklearn.metrics.pairwise import cosine_similarity\n",
    "# setting cos_similarity\n",
    "# creates a matrix of similairty of each title with each title \n",
    "# thus creates a square matrix of shape : num of titles x num of titles \n",
    "cos_similarity = cosine_similarity(X)"
   ]
  },
  {
   "cell_type": "code",
   "execution_count": 36,
   "metadata": {},
   "outputs": [],
   "source": [
    "def recc_kmeans(movie, df= df):\n",
    "    # Find the index position of the input movie\n",
    "    index = df[df['title'] == movie].index[0]\n",
    "\n",
    "    # Sort the movies based on similarity score to find distances from recommended movies\n",
    "    # fetches similarity scores of the current title with every other title\n",
    "    # orders in descending value of similarity scores [to get the most similar title]\n",
    "    # and before ordering enumerates them because while sorting the index will be lost\n",
    "    distances = sorted(list(enumerate(cos_similarity[index])), reverse=True, key=lambda x:x[1])\n",
    "\n",
    "    # List the top 5 recommended movies\n",
    "    for i in distances[1:10]:\n",
    "        print(\"==>\", df.iloc[i[0]].title)"
   ]
  },
  {
   "cell_type": "code",
   "execution_count": 37,
   "metadata": {},
   "outputs": [
    {
     "name": "stdout",
     "output_type": "stream",
     "text": [
      "==> Thank You\n",
      "==> Mubarakan\n",
      "==> Tezz\n",
      "==> Tees Maar Khan\n",
      "==> Ready\n",
      "==> Humko Deewana Kar Gaye\n",
      "==> No Entry\n",
      "==> Race\n",
      "==> Tum Milo Toh Sahi\n"
     ]
    }
   ],
   "source": [
    "recc_kmeans(\"Welcome\")"
   ]
  },
  {
   "cell_type": "code",
   "execution_count": 38,
   "metadata": {},
   "outputs": [
    {
     "name": "stdout",
     "output_type": "stream",
     "text": [
      "==> Thor: Ragnarok\n",
      "==> Mark Gatiss: A Study in Sherlock\n",
      "==> Her\n",
      "==> The Little Prince\n",
      "==> Penguins of Madagascar: The Movie\n",
      "==> Marco Polo: One Hundred Eyes\n",
      "==> Chef\n",
      "==> Walk with Me\n",
      "==> Black Panther\n"
     ]
    }
   ],
   "source": [
    "recc_kmeans(\"Avengers: Infinity War\")"
   ]
  },
  {
   "cell_type": "code",
   "execution_count": 39,
   "metadata": {},
   "outputs": [
    {
     "name": "stdout",
     "output_type": "stream",
     "text": [
      "==> Sym-Bionic Titan\n",
      "==> Lego DC Comics: Batman Be-Leaguered\n",
      "==> The Boss Baby: Get That Baby!\n",
      "==> Bolt\n",
      "==> LEGO Marvel Super Heroes: Avengers Reassembled!\n",
      "==> LEGO: Marvel Super Heroes: Maximum Overload\n",
      "==> Scooby-Doo on Zombie Island\n",
      "==> Marvel's Iron Man & Hulk: Heroes United\n",
      "==> Iron Man & Captain America: Heroes United\n"
     ]
    }
   ],
   "source": [
    "recc_kmeans(\"Batman: The Killing Joke\") # ANIMATED MOVIE"
   ]
  },
  {
   "cell_type": "code",
   "execution_count": 40,
   "metadata": {},
   "outputs": [
    {
     "name": "stdout",
     "output_type": "stream",
     "text": [
      "==> Thank You\n",
      "==> Ready\n",
      "==> Don 2\n",
      "==> Kucch To Hai\n",
      "==> Mubarakan\n",
      "==> Welcome\n",
      "==> Darr Sabko Lagta Hai\n",
      "==> Hello Brother\n",
      "==> Race\n"
     ]
    }
   ],
   "source": [
    "recc_kmeans(\"No Entry\")"
   ]
  },
  {
   "cell_type": "code",
   "execution_count": 42,
   "metadata": {},
   "outputs": [
    {
     "name": "stdout",
     "output_type": "stream",
     "text": [
      "==> The Sky Is Pink\n",
      "==> Zindagi Na Milegi Dobara\n",
      "==> Luck by Chance\n",
      "==> Don 2\n",
      "==> Karthik Calling Karthik\n",
      "==> Dolly Kitty Aur Woh Chamakte Sitare\n",
      "==> Don\n",
      "==> Dil Chahta Hai\n",
      "==> Ascharyachakit!\n"
     ]
    }
   ],
   "source": [
    "recc_kmeans(\"Dil Dhadakne Do\")"
   ]
  },
  {
   "cell_type": "markdown",
   "metadata": {},
   "source": [
    "## **Conclusion**\n",
    "\n",
    "### In conclusion, the recommendation system project successfully implemented 2 models to provide personalized recommendations to users. The project utilized collaborative filtering techniques, such as ***K Nearest Neighbors (KNN)*** and ***KMeans Clustering***. By leveraging sparse matrix data representation and machine learning algorithms, the system was able to generate accurate recommendations based on similarity scores and user preferences.\n",
    "### The focus was to get accurate and relevant reccomendation system and I think if we ignore 1 or 2 wrong reccomendations from all reccommended results; the reccomendations were relevant.\n",
    "### I think if we had more data in general rather than only limited to Netflix, the system would have been much better."
   ]
  }
 ],
 "metadata": {
  "kernelspec": {
   "display_name": "Python 3",
   "language": "python",
   "name": "python3"
  },
  "language_info": {
   "codemirror_mode": {
    "name": "ipython",
    "version": 3
   },
   "file_extension": ".py",
   "mimetype": "text/x-python",
   "name": "python",
   "nbconvert_exporter": "python",
   "pygments_lexer": "ipython3",
   "version": "3.9.6"
  }
 },
 "nbformat": 4,
 "nbformat_minor": 2
}
